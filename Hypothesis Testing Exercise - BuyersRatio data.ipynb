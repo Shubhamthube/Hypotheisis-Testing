{
 "cells": [
  {
   "cell_type": "markdown",
   "id": "0c23c5ee",
   "metadata": {},
   "source": [
    "# Hypothesis Testing Exercise - BuyersRatio data"
   ]
  },
  {
   "cell_type": "markdown",
   "id": "e370b259",
   "metadata": {},
   "source": [
    "Problem Statement :\n",
    "Sales of products in four different regions is tabulated for males and females. Find if male-female buyer rations are similar across regions"
   ]
  },
  {
   "cell_type": "markdown",
   "id": "5bd15007",
   "metadata": {},
   "source": [
    "# Business Problem"
   ]
  },
  {
   "cell_type": "markdown",
   "id": "e26fc8e5",
   "metadata": {},
   "source": [
    "Is the male-female buyer rations are similar across regions"
   ]
  },
  {
   "cell_type": "markdown",
   "id": "805125f9",
   "metadata": {},
   "source": [
    "# Data Description"
   ]
  },
  {
   "cell_type": "markdown",
   "id": "ef0e9f1d",
   "metadata": {},
   "source": [
    "α == 0.05 (95% Confidence)\n",
    "\n",
    "Y == Discrete X == Discrete\n",
    "\n",
    "Since there are more than 2 variable we will perform Chi-Square test"
   ]
  },
  {
   "cell_type": "code",
   "execution_count": 2,
   "id": "3004fdd9",
   "metadata": {},
   "outputs": [],
   "source": [
    "import pandas as pd\n",
    "import numpy as np\n",
    "from scipy import stats"
   ]
  },
  {
   "cell_type": "code",
   "execution_count": 3,
   "id": "36cd4cf6",
   "metadata": {},
   "outputs": [
    {
     "name": "stdout",
     "output_type": "stream",
     "text": [
      " Volume in drive C has no label.\n",
      " Volume Serial Number is C2AC-6915\n",
      "\n",
      " Directory of C:\\Users\\user\\EXCELR\\Assignments\\Hypothesis testing\n",
      "\n",
      "04/01/2022  08:50 PM    <DIR>          .\n",
      "03/30/2022  10:44 AM    <DIR>          ..\n",
      "04/01/2022  08:46 PM    <DIR>          .ipynb_checkpoints\n",
      "03/30/2022  10:43 AM                87 BuyerRatio.csv\n",
      "03/30/2022  10:43 AM            13,423 Costomer+OrderForm.csv\n",
      "03/30/2022  10:43 AM               525 Cutlets.csv\n",
      "04/01/2022  08:41 PM             8,113 Hypothesis Testing Exercise - Costomer+OrderForm data.ipynb\n",
      "03/30/2022  11:10 AM             6,898 Hypothesis Testing Exercise - Cutlets.mtw data.ipynb\n",
      "03/30/2022  11:26 AM            10,275 Hypothesis Testing Exercise - LabTat data.ipynb\n",
      "03/30/2022  10:43 AM            61,688 Hypothesis_Testing_Assignment.pptx\n",
      "03/30/2022  10:43 AM             3,487 LabTAT.csv\n",
      "04/01/2022  08:50 PM             1,686 Untitled.ipynb\n",
      "               9 File(s)        106,182 bytes\n",
      "               3 Dir(s)  171,783,688,192 bytes free\n"
     ]
    }
   ],
   "source": [
    "ls"
   ]
  },
  {
   "cell_type": "markdown",
   "id": "ff571efd",
   "metadata": {},
   "source": [
    "# Chi-Square Test"
   ]
  },
  {
   "cell_type": "code",
   "execution_count": 4,
   "id": "ecf500c8",
   "metadata": {},
   "outputs": [],
   "source": [
    "df=pd.read_csv(\"BuyerRatio.csv\")"
   ]
  },
  {
   "cell_type": "code",
   "execution_count": 5,
   "id": "2c8f3557",
   "metadata": {},
   "outputs": [
    {
     "data": {
      "text/html": [
       "<div>\n",
       "<style scoped>\n",
       "    .dataframe tbody tr th:only-of-type {\n",
       "        vertical-align: middle;\n",
       "    }\n",
       "\n",
       "    .dataframe tbody tr th {\n",
       "        vertical-align: top;\n",
       "    }\n",
       "\n",
       "    .dataframe thead th {\n",
       "        text-align: right;\n",
       "    }\n",
       "</style>\n",
       "<table border=\"1\" class=\"dataframe\">\n",
       "  <thead>\n",
       "    <tr style=\"text-align: right;\">\n",
       "      <th></th>\n",
       "      <th>Observed Values</th>\n",
       "      <th>East</th>\n",
       "      <th>West</th>\n",
       "      <th>North</th>\n",
       "      <th>South</th>\n",
       "    </tr>\n",
       "  </thead>\n",
       "  <tbody>\n",
       "    <tr>\n",
       "      <th>0</th>\n",
       "      <td>Males</td>\n",
       "      <td>50</td>\n",
       "      <td>142</td>\n",
       "      <td>131</td>\n",
       "      <td>70</td>\n",
       "    </tr>\n",
       "    <tr>\n",
       "      <th>1</th>\n",
       "      <td>Females</td>\n",
       "      <td>435</td>\n",
       "      <td>1523</td>\n",
       "      <td>1356</td>\n",
       "      <td>750</td>\n",
       "    </tr>\n",
       "  </tbody>\n",
       "</table>\n",
       "</div>"
      ],
      "text/plain": [
       "  Observed Values  East  West  North  South\n",
       "0           Males    50   142    131     70\n",
       "1         Females   435  1523   1356    750"
      ]
     },
     "execution_count": 5,
     "metadata": {},
     "output_type": "execute_result"
    }
   ],
   "source": [
    "df.head()"
   ]
  },
  {
   "cell_type": "markdown",
   "id": "917f8f5e",
   "metadata": {},
   "source": [
    "H0 == The male-female buyer rations are similar across regions\n",
    "H1 == The male-female buyer rations are not similar across regions"
   ]
  },
  {
   "cell_type": "code",
   "execution_count": 10,
   "id": "e5d97745",
   "metadata": {},
   "outputs": [
    {
     "data": {
      "text/plain": [
       "(1.5959455386610577,\n",
       " 0.6603094907091882,\n",
       " 3,\n",
       " array([[  42.76531299,  442.23468701],\n",
       "        [ 146.81287862, 1518.18712138],\n",
       "        [ 131.11756787, 1355.88243213],\n",
       "        [  72.30424052,  747.69575948]]))"
      ]
     },
     "execution_count": 10,
     "metadata": {},
     "output_type": "execute_result"
    }
   ],
   "source": [
    "stats.chi2_contingency([df['East'], df['West'], df['North'], df['South']])"
   ]
  },
  {
   "cell_type": "markdown",
   "id": "20648ec4",
   "metadata": {},
   "source": [
    "P value of Chi-Square test == 0.66 > α"
   ]
  },
  {
   "cell_type": "markdown",
   "id": "c6b9e662",
   "metadata": {},
   "source": [
    "Thus HO is accepted."
   ]
  },
  {
   "cell_type": "markdown",
   "id": "6a5220e5",
   "metadata": {},
   "source": [
    "The male-female buyer rations are similar across regions"
   ]
  },
  {
   "cell_type": "code",
   "execution_count": null,
   "id": "7bf7648e",
   "metadata": {},
   "outputs": [],
   "source": []
  }
 ],
 "metadata": {
  "kernelspec": {
   "display_name": "Python 3 (ipykernel)",
   "language": "python",
   "name": "python3"
  },
  "language_info": {
   "codemirror_mode": {
    "name": "ipython",
    "version": 3
   },
   "file_extension": ".py",
   "mimetype": "text/x-python",
   "name": "python",
   "nbconvert_exporter": "python",
   "pygments_lexer": "ipython3",
   "version": "3.9.7"
  }
 },
 "nbformat": 4,
 "nbformat_minor": 5
}
